{
 "cells": [
  {
   "cell_type": "code",
   "execution_count": null,
   "metadata": {},
   "outputs": [],
   "source": [
    "import numpy as np\n",
    "import pandas as pd\n",
    "#import xmltodict\n",
    "import glob\n",
    "import re\n",
    "from os.path import basename, splitext"
   ]
  },
  {
   "cell_type": "code",
   "execution_count": null,
   "metadata": {},
   "outputs": [],
   "source": [
    "data_dir = glob.glob('../../Data/Training/*')\n",
    "df = {}"
   ]
  },
  {
   "cell_type": "code",
   "execution_count": null,
   "metadata": {},
   "outputs": [],
   "source": [
    "for genre_file in data_dir:\n",
    "    with open(genre_file) as f:\n",
    "        tmp = f.read().split('</doc>')\n",
    "        name = splitext(basename(genre_file))[0]\n",
    "        df[name] = tmp\n",
    "        del tmp"
   ]
  },
  {
   "cell_type": "code",
   "execution_count": null,
   "metadata": {},
   "outputs": [],
   "source": [
    "tmp = []\n",
    "for name, corpus in df.items():\n",
    "    i = 0\n",
    "    for item in corpus:\n",
    "        m = re.search('<doc id=\"[0-9]+\" genre=\"[a-zA-Z]+\" gender=\"[M|F]\">', item)\n",
    "        if m is not None:\n",
    "            i += 1\n",
    "            tmp.append((m.group(0), item))\n",
    "    assert i==len(corpus)-1\n",
    "del df\n",
    "df = pd.DataFrame(tmp)\n"
   ]
  },
  {
   "cell_type": "code",
   "execution_count": null,
   "metadata": {},
   "outputs": [],
   "source": [
    "df.rename(columns={0:'meta', 1:'text'}, inplace=True)\n",
    "df['gender'] = df.iloc[:,0].str.extract(r'(M|F)')\n",
    "df['genre'] = df.iloc[:,0].str.extract(r'(twitter|youtube|diary|journalism|children)')\n",
    "df['docid'] = df.iloc[:,0].str.extract(r'([0-9]+)')\n",
    "df.sample(5)"
   ]
  },
  {
   "cell_type": "code",
   "execution_count": null,
   "metadata": {},
   "outputs": [],
   "source": [
    "for idx, row in df.iterrows():\n",
    "    row.text = row.text.replace(row.meta, '').strip()"
   ]
  },
  {
   "cell_type": "code",
   "execution_count": null,
   "metadata": {},
   "outputs": [],
   "source": [
    "df.sample(3)"
   ]
  },
  {
   "cell_type": "code",
   "execution_count": null,
   "metadata": {},
   "outputs": [],
   "source": [
    "df.to_json('../../Data/gxg.json', orient='records', lines=True)"
   ]
  },
  {
   "cell_type": "code",
   "execution_count": 7,
   "metadata": {},
   "outputs": [
    {
     "name": "stdout",
     "output_type": "stream",
     "text": [
      "CPU times: user 174 ms, sys: 44 ms, total: 218 ms\n",
      "Wall time: 217 ms\n"
     ]
    }
   ],
   "source": [
    "%%time\n",
    "import numpy as np\n",
    "import pandas as pd\n",
    "import sys\n",
    "# Add the ptdraft folder path to the sys.path list\n",
    "sys.path.append('../')\n",
    "from labov import datasets, classifier, evaluation\n",
    "from sklearn.model_selection import cross_val_predict, cross_val_score\n",
    "from sklearn.metrics import classification_report, accuracy_score\n",
    "from sklearn.utils import shuffle\n",
    "import spacy\n",
    "nlp = spacy.load('it')\n",
    "from collections import Counter"
   ]
  },
  {
   "cell_type": "code",
   "execution_count": 2,
   "metadata": {},
   "outputs": [
    {
     "data": {
      "text/html": [
       "<div>\n",
       "<style scoped>\n",
       "    .dataframe tbody tr th:only-of-type {\n",
       "        vertical-align: middle;\n",
       "    }\n",
       "\n",
       "    .dataframe tbody tr th {\n",
       "        vertical-align: top;\n",
       "    }\n",
       "\n",
       "    .dataframe thead th {\n",
       "        text-align: right;\n",
       "    }\n",
       "</style>\n",
       "<table border=\"1\" class=\"dataframe\">\n",
       "  <thead>\n",
       "    <tr style=\"text-align: right;\">\n",
       "      <th></th>\n",
       "      <th>docid</th>\n",
       "      <th>gender</th>\n",
       "      <th>genre</th>\n",
       "      <th>meta</th>\n",
       "      <th>text</th>\n",
       "    </tr>\n",
       "  </thead>\n",
       "  <tbody>\n",
       "    <tr>\n",
       "      <th>0</th>\n",
       "      <td>1</td>\n",
       "      <td>M</td>\n",
       "      <td>children</td>\n",
       "      <td>&lt;doc id=\"1\" genre=\"children\" gender=\"M\"&gt;</td>\n",
       "      <td>… Questa estate mi sono divertito molto perché...</td>\n",
       "    </tr>\n",
       "    <tr>\n",
       "      <th>1</th>\n",
       "      <td>2</td>\n",
       "      <td>M</td>\n",
       "      <td>children</td>\n",
       "      <td>&lt;doc id=\"2\" genre=\"children\" gender=\"M\"&gt;</td>\n",
       "      <td>Benvenuti a “TGDVD” i marò sono stati liberati...</td>\n",
       "    </tr>\n",
       "    <tr>\n",
       "      <th>2</th>\n",
       "      <td>3</td>\n",
       "      <td>M</td>\n",
       "      <td>children</td>\n",
       "      <td>&lt;doc id=\"3\" genre=\"children\" gender=\"M\"&gt;</td>\n",
       "      <td>Roma, 9 Giungo 2012\\nCaro diario,\\nOggi vorrei...</td>\n",
       "    </tr>\n",
       "    <tr>\n",
       "      <th>3</th>\n",
       "      <td>4</td>\n",
       "      <td>M</td>\n",
       "      <td>children</td>\n",
       "      <td>&lt;doc id=\"4\" genre=\"children\" gender=\"M\"&gt;</td>\n",
       "      <td>Roma 9 Giugno 2012\\nCaro diario,\\nil mio ultim...</td>\n",
       "    </tr>\n",
       "    <tr>\n",
       "      <th>4</th>\n",
       "      <td>5</td>\n",
       "      <td>M</td>\n",
       "      <td>children</td>\n",
       "      <td>&lt;doc id=\"5\" genre=\"children\" gender=\"M\"&gt;</td>\n",
       "      <td>Io non so bene come definirmi, ma secondo me s...</td>\n",
       "    </tr>\n",
       "  </tbody>\n",
       "</table>\n",
       "</div>"
      ],
      "text/plain": [
       "   docid gender     genre                                      meta  \\\n",
       "0      1      M  children  <doc id=\"1\" genre=\"children\" gender=\"M\">   \n",
       "1      2      M  children  <doc id=\"2\" genre=\"children\" gender=\"M\">   \n",
       "2      3      M  children  <doc id=\"3\" genre=\"children\" gender=\"M\">   \n",
       "3      4      M  children  <doc id=\"4\" genre=\"children\" gender=\"M\">   \n",
       "4      5      M  children  <doc id=\"5\" genre=\"children\" gender=\"M\">   \n",
       "\n",
       "                                                text  \n",
       "0  … Questa estate mi sono divertito molto perché...  \n",
       "1  Benvenuti a “TGDVD” i marò sono stati liberati...  \n",
       "2  Roma, 9 Giungo 2012\\nCaro diario,\\nOggi vorrei...  \n",
       "3  Roma 9 Giugno 2012\\nCaro diario,\\nil mio ultim...  \n",
       "4  Io non so bene come definirmi, ma secondo me s...  "
      ]
     },
     "execution_count": 2,
     "metadata": {},
     "output_type": "execute_result"
    }
   ],
   "source": [
    "df = pd.read_json('../../Data/gxg.json', lines=True)\n",
    "df.head()"
   ]
  },
  {
   "cell_type": "markdown",
   "metadata": {},
   "source": [
    "## In-genre"
   ]
  },
  {
   "cell_type": "code",
   "execution_count": 4,
   "metadata": {},
   "outputs": [
    {
     "name": "stdout",
     "output_type": "stream",
     "text": [
      "children\n",
      "0.5 0.05000000000000002\n",
      "diary\n",
      "0.45 0.0\n",
      "journalism\n",
      "0.45 0.0\n",
      "twitter\n",
      "0.48233333333333334 0.01686877457184\n",
      "youtube\n",
      "0.49727272727272726 0.021723278446088228\n",
      "----\n",
      "children\n",
      "0.5249999999999999 0.08139410298049853\n",
      "diary\n",
      "0.7050000000000001 0.08789197915623471\n",
      "journalism\n",
      "0.615 0.11629703349613006\n",
      "twitter\n",
      "0.7366666666666667 0.015811388300841903\n",
      "youtube\n",
      "0.6154545454545455 0.02179449471770338\n",
      "----\n",
      "children\n",
      "0.55 0.09746794344808965\n",
      "diary\n",
      "0.73 0.08717797887081347\n",
      "journalism\n",
      "0.655 0.115\n",
      "twitter\n",
      "0.7278333333333333 0.015074813431681329\n",
      "youtube\n",
      "0.6034090909090908 0.020811283096729794\n",
      "----\n",
      "children\n",
      "0.525 0.125\n",
      "diary\n",
      "0.68 0.11874342087037916\n",
      "journalism\n",
      "0.54 0.13\n",
      "twitter\n",
      "0.7416666666666667 0.014337208778404381\n",
      "youtube\n",
      "0.6213636363636363 0.02125212677738357\n",
      "----\n"
     ]
    }
   ],
   "source": [
    "for model in [classifier.random, classifier.ngram, classifier.words, classifier.chars]:\n",
    "    for n, g in df.groupby('genre'):\n",
    "        print(n)\n",
    "        scores = cross_val_score(model, g.text, g.gender, cv=10)\n",
    "        print(scores.mean(), scores.std())\n",
    "    print('----')"
   ]
  },
  {
   "cell_type": "markdown",
   "metadata": {},
   "source": [
    "## Cross-genre"
   ]
  },
  {
   "cell_type": "code",
   "execution_count": 19,
   "metadata": {},
   "outputs": [
    {
     "name": "stdout",
     "output_type": "stream",
     "text": [
      "-----\n",
      "youtube 0.5059090909090909\n",
      "children 0.45\n",
      "diary 0.56\n",
      "journalism 0.56\n",
      "twitter 0.49233333333333335\n",
      "---\n",
      "-----\n",
      "youtube 0.5306818181818181\n",
      "children 0.585\n",
      "diary 0.64\n",
      "journalism 0.55\n",
      "twitter 0.5153333333333333\n",
      "---\n",
      "-----\n",
      "youtube 0.5561363636363637\n",
      "children 0.595\n",
      "diary 0.675\n",
      "journalism 0.52\n",
      "twitter 0.5401666666666667\n",
      "---\n",
      "-----\n",
      "youtube 0.5563636363636364\n",
      "children 0.6\n",
      "diary 0.625\n",
      "journalism 0.56\n",
      "twitter 0.5171666666666667\n",
      "---\n"
     ]
    }
   ],
   "source": [
    "for model in [classifier.random, classifier.words, classifier.chars, classifier.ngram]:\n",
    "    print('-----')\n",
    "    for genre in set(df.genre):\n",
    "        test = df[df.genre == genre]\n",
    "        train = df[df.genre != genre]\n",
    "        m = model.fit(train.text, train.gender)\n",
    "        y_pred = m.predict(test.text)\n",
    "        print(genre, accuracy_score(y_pred, test.gender))\n",
    "    print('---')"
   ]
  },
  {
   "cell_type": "markdown",
   "metadata": {},
   "source": [
    "## Bleaching"
   ]
  },
  {
   "cell_type": "code",
   "execution_count": 8,
   "metadata": {},
   "outputs": [],
   "source": [
    "wordCount = Counter(df.text.str.cat(sep='\\n').split(' '))"
   ]
  },
  {
   "cell_type": "code",
   "execution_count": 10,
   "metadata": {},
   "outputs": [
    {
     "data": {
      "text/plain": [
       "'ccvc 04 True 0 CvCc 04 True 0 ! 01 False 135 ! 01 False 135 ! 01 False 135'"
      ]
     },
     "execution_count": 10,
     "metadata": {},
     "output_type": "execute_result"
    }
   ],
   "source": [
    "def shaper(word):\n",
    "    out = []\n",
    "    for char in word.text:\n",
    "        if char.isupper():\n",
    "            if char in 'AEIOUY':\n",
    "                out.append('V')\n",
    "            elif char in 'BCDFGHJKLMNPQRSTVXZ':\n",
    "                out.append('C')\n",
    "            else:\n",
    "                out.append(char)\n",
    "        elif char.islower():\n",
    "            if char in 'aeiouyèéàòù':\n",
    "                out.append('v')\n",
    "            elif char in 'BCDFGHJKLMNPQRSTVXZ'.lower():\n",
    "                out.append('c')\n",
    "            else:\n",
    "                out.append(char)\n",
    "        else:\n",
    "            out.append(char)\n",
    "    return ''.join(out)\n",
    "\n",
    "def bleach(text, word_dic=None):\n",
    "    bleached = ' '.join([' '.join((shaper(w), \n",
    "                                   str(0)+str(len(w)),\n",
    "                                   str(w.is_alpha),\n",
    "                                   str(word_dic[w.text]))) for w in text])\n",
    "    return bleached\n",
    "\n",
    "bleach(nlp('this TeXt!!!'), wordCount)"
   ]
  },
  {
   "cell_type": "code",
   "execution_count": 11,
   "metadata": {},
   "outputs": [],
   "source": [
    "textit = (row.text for row in df.itertuples())\n",
    "df['spacy'] = [doc for doc in nlp.pipe(textit,n_threads=4, batch_size=1000)]\n",
    "df['bleached'] = df.spacy.apply(lambda x: bleach(x, wordCount))"
   ]
  },
  {
   "cell_type": "code",
   "execution_count": 12,
   "metadata": {},
   "outputs": [
    {
     "data": {
      "text/html": [
       "<div>\n",
       "<style scoped>\n",
       "    .dataframe tbody tr th:only-of-type {\n",
       "        vertical-align: middle;\n",
       "    }\n",
       "\n",
       "    .dataframe tbody tr th {\n",
       "        vertical-align: top;\n",
       "    }\n",
       "\n",
       "    .dataframe thead th {\n",
       "        text-align: right;\n",
       "    }\n",
       "</style>\n",
       "<table border=\"1\" class=\"dataframe\">\n",
       "  <thead>\n",
       "    <tr style=\"text-align: right;\">\n",
       "      <th></th>\n",
       "      <th>docid</th>\n",
       "      <th>gender</th>\n",
       "      <th>genre</th>\n",
       "      <th>meta</th>\n",
       "      <th>text</th>\n",
       "      <th>spacy</th>\n",
       "      <th>bleached</th>\n",
       "    </tr>\n",
       "  </thead>\n",
       "  <tbody>\n",
       "    <tr>\n",
       "      <th>806</th>\n",
       "      <td>9499</td>\n",
       "      <td>F</td>\n",
       "      <td>youtube</td>\n",
       "      <td>&lt;doc id=\"9499\" genre=\"youtube\" gender=\"F\"&gt;</td>\n",
       "      <td>Favij io ti considero mates</td>\n",
       "      <td>(Favij, io, ti, considero, mates)</td>\n",
       "      <td>Cvcvc 05 True 1 vv 02 True 784 cv 02 True 665 ...</td>\n",
       "    </tr>\n",
       "    <tr>\n",
       "      <th>9644</th>\n",
       "      <td>7911</td>\n",
       "      <td>F</td>\n",
       "      <td>twitter</td>\n",
       "      <td>&lt;doc id=\"7911\" genre=\"twitter\" gender=\"F\"&gt;</td>\n",
       "      <td>Dunque , devo tradurre una prezzo di racconto ...</td>\n",
       "      <td>(Dunque, ,, devo, tradurre, una, prezzo, di, r...</td>\n",
       "      <td>Cvccvv 06 True 27 , 01 False 466 cvcv 04 True ...</td>\n",
       "    </tr>\n",
       "    <tr>\n",
       "      <th>6692</th>\n",
       "      <td>7768</td>\n",
       "      <td>F</td>\n",
       "      <td>twitter</td>\n",
       "      <td>&lt;doc id=\"7768\" genre=\"twitter\" gender=\"F\"&gt;</td>\n",
       "      <td>Quindi #TempaRossa , per #Renzi serve per espo...</td>\n",
       "      <td>(Quindi, #, TempaRossa, ,, per, #, Renzi, serv...</td>\n",
       "      <td>Cvvccv 06 True 25 # 01 False 0 CvccvCvccv 010 ...</td>\n",
       "    </tr>\n",
       "  </tbody>\n",
       "</table>\n",
       "</div>"
      ],
      "text/plain": [
       "      docid gender    genre                                        meta  \\\n",
       "806    9499      F  youtube  <doc id=\"9499\" genre=\"youtube\" gender=\"F\">   \n",
       "9644   7911      F  twitter  <doc id=\"7911\" genre=\"twitter\" gender=\"F\">   \n",
       "6692   7768      F  twitter  <doc id=\"7768\" genre=\"twitter\" gender=\"F\">   \n",
       "\n",
       "                                                   text  \\\n",
       "806                         Favij io ti considero mates   \n",
       "9644  Dunque , devo tradurre una prezzo di racconto ...   \n",
       "6692  Quindi #TempaRossa , per #Renzi serve per espo...   \n",
       "\n",
       "                                                  spacy  \\\n",
       "806                   (Favij, io, ti, considero, mates)   \n",
       "9644  (Dunque, ,, devo, tradurre, una, prezzo, di, r...   \n",
       "6692  (Quindi, #, TempaRossa, ,, per, #, Renzi, serv...   \n",
       "\n",
       "                                               bleached  \n",
       "806   Cvcvc 05 True 1 vv 02 True 784 cv 02 True 665 ...  \n",
       "9644  Cvccvv 06 True 27 , 01 False 466 cvcv 04 True ...  \n",
       "6692  Cvvccv 06 True 25 # 01 False 0 CvccvCvccv 010 ...  "
      ]
     },
     "execution_count": 12,
     "metadata": {},
     "output_type": "execute_result"
    }
   ],
   "source": [
    "df.sample(3)"
   ]
  },
  {
   "cell_type": "markdown",
   "metadata": {},
   "source": [
    "## In-genre"
   ]
  },
  {
   "cell_type": "code",
   "execution_count": 21,
   "metadata": {},
   "outputs": [
    {
     "name": "stdout",
     "output_type": "stream",
     "text": [
      "children\n",
      "0.5349999999999999 0.07088723439378912\n",
      "----\n",
      "diary\n",
      "0.6799999999999999 0.10770329614269007\n",
      "----\n",
      "journalism\n",
      "0.545 0.11056672193747988\n",
      "----\n",
      "twitter\n",
      "0.6975 0.014553540997144149\n",
      "----\n",
      "youtube\n",
      "0.5945454545454545 0.02355756094518171\n",
      "----\n"
     ]
    }
   ],
   "source": [
    "for n, g in df.groupby('genre'):\n",
    "    print(n)\n",
    "    scores = cross_val_score(classifier.ngram, g.bleached, g.gender, cv=10)\n",
    "    print(scores.mean(), scores.std())\n",
    "    print('----')"
   ]
  },
  {
   "cell_type": "markdown",
   "metadata": {},
   "source": [
    "## Cross-genre"
   ]
  },
  {
   "cell_type": "code",
   "execution_count": 20,
   "metadata": {},
   "outputs": [
    {
     "name": "stdout",
     "output_type": "stream",
     "text": [
      "youtube 0.5297727272727273\n",
      "---\n",
      "children 0.535\n",
      "---\n",
      "diary 0.585\n",
      "---\n",
      "journalism 0.53\n",
      "---\n",
      "twitter 0.49933333333333335\n",
      "---\n"
     ]
    }
   ],
   "source": [
    "for genre in set(df.genre):\n",
    "    test = df[df.genre == genre]\n",
    "    train = df[df.genre != genre]\n",
    "    m = model.fit(train.bleached, train.gender)\n",
    "    y_pred = m.predict(test.bleached)\n",
    "    print(genre, accuracy_score(y_pred, test.gender))\n",
    "    print('---')"
   ]
  }
 ],
 "metadata": {
  "kernelspec": {
   "display_name": "Python 3",
   "language": "python",
   "name": "python3"
  },
  "language_info": {
   "codemirror_mode": {
    "name": "ipython",
    "version": 3
   },
   "file_extension": ".py",
   "mimetype": "text/x-python",
   "name": "python",
   "nbconvert_exporter": "python",
   "pygments_lexer": "ipython3",
   "version": "3.6.6"
  }
 },
 "nbformat": 4,
 "nbformat_minor": 2
}
