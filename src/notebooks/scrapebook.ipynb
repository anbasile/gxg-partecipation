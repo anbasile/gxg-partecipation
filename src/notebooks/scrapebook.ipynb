{
 "cells": [
  {
   "cell_type": "code",
   "execution_count": 1,
   "metadata": {},
   "outputs": [
    {
     "name": "stderr",
     "output_type": "stream",
     "text": [
      "/root/.local/share/virtualenvs/src-euU5pS56/lib/python3.6/importlib/_bootstrap.py:219: RuntimeWarning: numpy.dtype size changed, may indicate binary incompatibility. Expected 96, got 88\n",
      "  return f(*args, **kwds)\n"
     ]
    }
   ],
   "source": [
    "import numpy as np\n",
    "import pandas as pd\n",
    "import xmltodict\n",
    "import glob\n",
    "import re\n",
    "from os.path import basename, splitext"
   ]
  },
  {
   "cell_type": "code",
   "execution_count": 2,
   "metadata": {},
   "outputs": [],
   "source": [
    "data_dir = glob.glob('../../Data/Training/*')\n",
    "df = {}"
   ]
  },
  {
   "cell_type": "code",
   "execution_count": 3,
   "metadata": {},
   "outputs": [],
   "source": [
    "for genre_file in data_dir:\n",
    "    with open(genre_file) as f:\n",
    "        tmp = f.read().split('</doc>')\n",
    "        name = splitext(basename(genre_file))[0]\n",
    "        df[name] = tmp\n",
    "        del tmp"
   ]
  },
  {
   "cell_type": "code",
   "execution_count": 4,
   "metadata": {},
   "outputs": [],
   "source": [
    "tmp = []\n",
    "for name, corpus in df.items():\n",
    "    i = 0\n",
    "    for item in corpus:\n",
    "        m = re.search('<doc id=\"[0-9]+\" genre=\"[a-zA-Z]+\" gender=\"[M|F]\">', item)\n",
    "        if m is not None:\n",
    "            i += 1\n",
    "            tmp.append((m.group(0), item))\n",
    "    assert i==len(corpus)-1\n",
    "del df\n",
    "df = pd.DataFrame(tmp)\n"
   ]
  },
  {
   "cell_type": "code",
   "execution_count": 5,
   "metadata": {},
   "outputs": [
    {
     "ename": "AttributeError",
     "evalue": "'dict' object has no attribute 'rename'",
     "output_type": "error",
     "traceback": [
      "\u001b[0;31m--------------------------------------------------------------------------\u001b[0m",
      "\u001b[0;31mAttributeError\u001b[0m                           Traceback (most recent call last)",
      "\u001b[0;32m<ipython-input-5-0c750c1b9c64>\u001b[0m in \u001b[0;36m<module>\u001b[0;34m()\u001b[0m\n\u001b[0;32m----> 1\u001b[0;31m \u001b[0mdf\u001b[0m\u001b[0;34m.\u001b[0m\u001b[0mrename\u001b[0m\u001b[0;34m(\u001b[0m\u001b[0mcolumns\u001b[0m\u001b[0;34m=\u001b[0m\u001b[0;34m{\u001b[0m\u001b[0;36m0\u001b[0m\u001b[0;34m:\u001b[0m\u001b[0;34m'meta'\u001b[0m\u001b[0;34m,\u001b[0m \u001b[0;36m1\u001b[0m\u001b[0;34m:\u001b[0m\u001b[0;34m'text'\u001b[0m\u001b[0;34m}\u001b[0m\u001b[0;34m,\u001b[0m \u001b[0minplace\u001b[0m\u001b[0;34m=\u001b[0m\u001b[0;32mTrue\u001b[0m\u001b[0;34m)\u001b[0m\u001b[0;34m\u001b[0m\u001b[0m\n\u001b[0m\u001b[1;32m      2\u001b[0m \u001b[0mdf\u001b[0m\u001b[0;34m[\u001b[0m\u001b[0;34m'gender'\u001b[0m\u001b[0;34m]\u001b[0m \u001b[0;34m=\u001b[0m \u001b[0mdf\u001b[0m\u001b[0;34m.\u001b[0m\u001b[0miloc\u001b[0m\u001b[0;34m[\u001b[0m\u001b[0;34m:\u001b[0m\u001b[0;34m,\u001b[0m\u001b[0;36m0\u001b[0m\u001b[0;34m]\u001b[0m\u001b[0;34m.\u001b[0m\u001b[0mstr\u001b[0m\u001b[0;34m.\u001b[0m\u001b[0mextract\u001b[0m\u001b[0;34m(\u001b[0m\u001b[0;34mr'(M|F)'\u001b[0m\u001b[0;34m)\u001b[0m\u001b[0;34m\u001b[0m\u001b[0m\n\u001b[1;32m      3\u001b[0m \u001b[0mdf\u001b[0m\u001b[0;34m[\u001b[0m\u001b[0;34m'genre'\u001b[0m\u001b[0;34m]\u001b[0m \u001b[0;34m=\u001b[0m \u001b[0mdf\u001b[0m\u001b[0;34m.\u001b[0m\u001b[0miloc\u001b[0m\u001b[0;34m[\u001b[0m\u001b[0;34m:\u001b[0m\u001b[0;34m,\u001b[0m\u001b[0;36m0\u001b[0m\u001b[0;34m]\u001b[0m\u001b[0;34m.\u001b[0m\u001b[0mstr\u001b[0m\u001b[0;34m.\u001b[0m\u001b[0mextract\u001b[0m\u001b[0;34m(\u001b[0m\u001b[0;34mr'(twitter|youtube|diary|journalism|children)'\u001b[0m\u001b[0;34m)\u001b[0m\u001b[0;34m\u001b[0m\u001b[0m\n\u001b[1;32m      4\u001b[0m \u001b[0mdf\u001b[0m\u001b[0;34m[\u001b[0m\u001b[0;34m'docid'\u001b[0m\u001b[0;34m]\u001b[0m \u001b[0;34m=\u001b[0m \u001b[0mdf\u001b[0m\u001b[0;34m.\u001b[0m\u001b[0miloc\u001b[0m\u001b[0;34m[\u001b[0m\u001b[0;34m:\u001b[0m\u001b[0;34m,\u001b[0m\u001b[0;36m0\u001b[0m\u001b[0;34m]\u001b[0m\u001b[0;34m.\u001b[0m\u001b[0mstr\u001b[0m\u001b[0;34m.\u001b[0m\u001b[0mextract\u001b[0m\u001b[0;34m(\u001b[0m\u001b[0;34mr'([0-9]+)'\u001b[0m\u001b[0;34m)\u001b[0m\u001b[0;34m\u001b[0m\u001b[0m\n\u001b[1;32m      5\u001b[0m \u001b[0mdf\u001b[0m\u001b[0;34m.\u001b[0m\u001b[0msample\u001b[0m\u001b[0;34m(\u001b[0m\u001b[0;36m5\u001b[0m\u001b[0;34m)\u001b[0m\u001b[0;34m\u001b[0m\u001b[0m\n",
      "\u001b[0;31mAttributeError\u001b[0m: 'dict' object has no attribute 'rename'"
     ]
    }
   ],
   "source": [
    "df.rename(columns={0:'meta', 1:'text'}, inplace=True)\n",
    "df['gender'] = df.iloc[:,0].str.extract(r'(M|F)')\n",
    "df['genre'] = df.iloc[:,0].str.extract(r'(twitter|youtube|diary|journalism|children)')\n",
    "df['docid'] = df.iloc[:,0].str.extract(r'([0-9]+)')\n",
    "df.sample(5)"
   ]
  },
  {
   "cell_type": "code",
   "execution_count": 30,
   "metadata": {},
   "outputs": [],
   "source": [
    "for idx, row in df.iterrows():\n",
    "    row.text = row.text.replace(row.meta, '').strip()"
   ]
  },
  {
   "cell_type": "code",
   "execution_count": 31,
   "metadata": {},
   "outputs": [],
   "source": [
    "df.to_json('../../Data/gxg.json', orient='records', lines=True)"
   ]
  },
  {
   "cell_type": "code",
   "execution_count": 33,
   "metadata": {},
   "outputs": [
    {
     "data": {
      "text/html": [
       "<div>\n",
       "<style scoped>\n",
       "    .dataframe tbody tr th:only-of-type {\n",
       "        vertical-align: middle;\n",
       "    }\n",
       "\n",
       "    .dataframe tbody tr th {\n",
       "        vertical-align: top;\n",
       "    }\n",
       "\n",
       "    .dataframe thead th {\n",
       "        text-align: right;\n",
       "    }\n",
       "</style>\n",
       "<table border=\"1\" class=\"dataframe\">\n",
       "  <thead>\n",
       "    <tr style=\"text-align: right;\">\n",
       "      <th></th>\n",
       "      <th>docid</th>\n",
       "      <th>gender</th>\n",
       "      <th>genre</th>\n",
       "      <th>meta</th>\n",
       "      <th>text</th>\n",
       "    </tr>\n",
       "  </thead>\n",
       "  <tbody>\n",
       "    <tr>\n",
       "      <th>10476</th>\n",
       "      <td>3758</td>\n",
       "      <td>M</td>\n",
       "      <td>twitter</td>\n",
       "      <td>&lt;doc id=\"3758\" genre=\"twitter\" gender=\"M\"&gt;</td>\n",
       "      <td>@matteorenzi agli #SGT2016 dice che al #Sud ma...</td>\n",
       "    </tr>\n",
       "    <tr>\n",
       "      <th>6889</th>\n",
       "      <td>1581</td>\n",
       "      <td>M</td>\n",
       "      <td>twitter</td>\n",
       "      <td>&lt;doc id=\"1581\" genre=\"twitter\" gender=\"M\"&gt;</td>\n",
       "      <td>Le nostre spiagge italiane .... http:// fb.me/...</td>\n",
       "    </tr>\n",
       "    <tr>\n",
       "      <th>10176</th>\n",
       "      <td>4120</td>\n",
       "      <td>M</td>\n",
       "      <td>twitter</td>\n",
       "      <td>&lt;doc id=\"4120\" genre=\"twitter\" gender=\"M\"&gt;</td>\n",
       "      <td>Il #Barça e quel peccato chiamato presunzione ...</td>\n",
       "    </tr>\n",
       "    <tr>\n",
       "      <th>6329</th>\n",
       "      <td>590</td>\n",
       "      <td>M</td>\n",
       "      <td>twitter</td>\n",
       "      <td>&lt;doc id=\"590\" genre=\"twitter\" gender=\"M\"&gt;</td>\n",
       "      <td>Se avessimo avuto i cambi #RomaInter #Amala</td>\n",
       "    </tr>\n",
       "    <tr>\n",
       "      <th>3785</th>\n",
       "      <td>7296</td>\n",
       "      <td>F</td>\n",
       "      <td>youtube</td>\n",
       "      <td>&lt;doc id=\"7296\" genre=\"youtube\" gender=\"F\"&gt;</td>\n",
       "      <td>HAHAHAHHAHAHA</td>\n",
       "    </tr>\n",
       "  </tbody>\n",
       "</table>\n",
       "</div>"
      ],
      "text/plain": [
       "       docid gender    genre                                        meta  \\\n",
       "10476   3758      M  twitter  <doc id=\"3758\" genre=\"twitter\" gender=\"M\">   \n",
       "6889    1581      M  twitter  <doc id=\"1581\" genre=\"twitter\" gender=\"M\">   \n",
       "10176   4120      M  twitter  <doc id=\"4120\" genre=\"twitter\" gender=\"M\">   \n",
       "6329     590      M  twitter   <doc id=\"590\" genre=\"twitter\" gender=\"M\">   \n",
       "3785    7296      F  youtube  <doc id=\"7296\" genre=\"youtube\" gender=\"F\">   \n",
       "\n",
       "                                                    text  \n",
       "10476  @matteorenzi agli #SGT2016 dice che al #Sud ma...  \n",
       "6889   Le nostre spiagge italiane .... http:// fb.me/...  \n",
       "10176  Il #Barça e quel peccato chiamato presunzione ...  \n",
       "6329         Se avessimo avuto i cambi #RomaInter #Amala  \n",
       "3785                                       HAHAHAHHAHAHA  "
      ]
     },
     "execution_count": 33,
     "metadata": {},
     "output_type": "execute_result"
    }
   ],
   "source": [
    "pd.read_json('../../Data/gxg.json', lines=True).sample(5)"
   ]
  },
  {
   "cell_type": "code",
   "execution_count": 44,
   "metadata": {},
   "outputs": [
    {
     "name": "stdout",
     "output_type": "stream",
     "text": [
      "running the baseline...\n",
      "done!\n",
      "Accuracy: 0.51 (+/- 0.02)\n",
      "fitting model...\n",
      "done!\n",
      "0.6836363636363636\n",
      "             precision    recall  f1-score   support\n",
      "\n",
      "          F       0.67      0.69      0.68      5328\n",
      "          M       0.70      0.68      0.69      5672\n",
      "\n",
      "avg / total       0.68      0.68      0.68     11000\n",
      "\n",
      "[[3674 1654]\n",
      " [1826 3846]]\n",
      "0\n",
      "CPU times: user 425 ms, sys: 148 ms, total: 574 ms\n",
      "Wall time: 1min 25s\n"
     ]
    }
   ],
   "source": [
    "%%time\n",
    "\n",
    "import numpy as np\n",
    "import pandas as pd\n",
    "import sys\n",
    "# Add the ptdraft folder path to the sys.path list\n",
    "sys.path.append('../')\n",
    "from labov import datasets, classifier, evaluation\n",
    "from sklearn.model_selection import cross_val_predict, cross_val_score\n",
    "from sklearn.metrics import classification_report, accuracy_score\n",
    "from sklearn.utils import shuffle\n",
    "\n",
    "x, y = shuffle(df.text, df.gender, random_state=42)\n",
    "print(\"running the baseline...\")\n",
    "random = cross_val_score(classifier.random, x, y, cv=5, n_jobs=-1)\n",
    "print(\"done!\")\n",
    "print(\"Accuracy: %0.2f (+/- %0.2f)\" % (random.mean(), random.std() * 2))\n",
    "\n",
    "print(\"fitting model...\")\n",
    "y_pred = cross_val_predict(classifier.ngram, x, y, cv=10, n_jobs=-1)\n",
    "print(\"done!\")\n",
    "print(evaluation.run(y_pred, y))"
   ]
  }
 ],
 "metadata": {
  "kernelspec": {
   "display_name": "Python 3",
   "language": "python",
   "name": "python3"
  },
  "language_info": {
   "codemirror_mode": {
    "name": "ipython",
    "version": 3
   },
   "file_extension": ".py",
   "mimetype": "text/x-python",
   "name": "python",
   "nbconvert_exporter": "python",
   "pygments_lexer": "ipython3",
   "version": "3.6.5"
  }
 },
 "nbformat": 4,
 "nbformat_minor": 2
}
