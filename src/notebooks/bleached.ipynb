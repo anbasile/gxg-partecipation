{
 "cells": [
  {
   "cell_type": "code",
   "execution_count": 72,
   "metadata": {},
   "outputs": [],
   "source": [
    "import pandas as pd\n",
    "import numpy as np\n",
    "import pandas as pd\n",
    "import glob\n",
    "import re\n",
    "from os.path import basename, splitext\n",
    "import pickle\n",
    "import matplotlib.pyplot as plt\n",
    "import sys\n",
    "sys.path.append('./')\n",
    "import spacy\n",
    "from labov import datasets, classifier, evaluation\n",
    "from sklearn.model_selection import cross_val_predict, cross_val_score\n",
    "from sklearn.metrics import classification_report, accuracy_score\n",
    "from sklearn.utils import shuffle\n",
    "from collections import Counter"
   ]
  },
  {
   "cell_type": "code",
   "execution_count": 2,
   "metadata": {},
   "outputs": [],
   "source": [
    "enlp = spacy.load('en')\n",
    "inlp = spacy.load('it')"
   ]
  },
  {
   "cell_type": "code",
   "execution_count": 3,
   "metadata": {},
   "outputs": [],
   "source": [
    "it_train = pd.read_csv('../data/it_training.tsv', sep='\\t')\n",
    "it_test = pd.read_csv('../data/it_testing.tsv', sep='\\t')\n",
    "en_train = pd.read_csv('../data/en_training.tsv', sep='\\t')\n",
    "en_test = pd.read_csv('../data/en_testing.tsv', sep='\\t')\n",
    "\n",
    "wordCount = Counter(pd.concat([en_train.text,\n",
    "                               it_train.text]).str.cat(sep='\\n').split(' '))"
   ]
  },
  {
   "cell_type": "code",
   "execution_count": 78,
   "metadata": {},
   "outputs": [
    {
     "data": {
      "text/plain": [
       "60"
      ]
     },
     "execution_count": 78,
     "metadata": {},
     "output_type": "execute_result"
    }
   ],
   "source": [
    "wordCount['.']"
   ]
  },
  {
   "cell_type": "code",
   "execution_count": 4,
   "metadata": {},
   "outputs": [
    {
     "data": {
      "text/plain": [
       "'ccvc 04 True 263 CvCc 04 True 0 ! 01 False 36 ! 01 False 36 ! 01 False 36'"
      ]
     },
     "execution_count": 4,
     "metadata": {},
     "output_type": "execute_result"
    }
   ],
   "source": [
    "def shaper(word):\n",
    "    out = []\n",
    "    for char in word.text:\n",
    "        if char.isupper():\n",
    "            if char in 'AEIOUY':\n",
    "                out.append('V')\n",
    "            elif char in 'BCDFGHJKLMNPQRSTVXZ':\n",
    "                out.append('C')\n",
    "            else:\n",
    "                out.append(char)\n",
    "        elif char.islower():\n",
    "            if char in 'aeiouy':\n",
    "                out.append('v')\n",
    "            elif char in 'BCDFGHJKLMNPQRSTVXZ'.lower():\n",
    "                out.append('c')\n",
    "            else:\n",
    "                out.append(char)\n",
    "        else:\n",
    "            out.append(char)\n",
    "    return ''.join(out)\n",
    "\n",
    "def bleach(text, word_dic=None):\n",
    "    bleached = ' '.join([' '.join((shaper(w), \n",
    "                                   str(0)+str(len(w)),\n",
    "                                   str(w.is_alpha),\n",
    "                                   str(word_dic[w.text]))) for w in text])\n",
    "    return bleached\n",
    "\n",
    "bleach(inlp('this TeXt!!!'), wordCount)"
   ]
  },
  {
   "cell_type": "code",
   "execution_count": 47,
   "metadata": {},
   "outputs": [],
   "source": [
    "textit = (row.text for row in it_train.itertuples())\n",
    "it_train['spacy'] = [doc for doc in inlp.pipe(textit,n_threads=4, batch_size=1000)]\n",
    "it_train['bleached'] = it_train.spacy.apply(lambda x: bleach(x, wordCount))\n",
    "texten = (row.text for row in en_train.itertuples())\n",
    "en_train['spacy'] = [doc for doc in enlp.pipe(texten,n_threads=4, batch_size=1000)]\n",
    "en_train['bleached'] = en_train.spacy.apply(lambda x: bleach(x, wordCount))"
   ]
  },
  {
   "cell_type": "code",
   "execution_count": 6,
   "metadata": {},
   "outputs": [],
   "source": [
    "#it\n",
    "textittest = (row.text for row in it_test.itertuples())\n",
    "it_test['spacy'] = [doc for doc in inlp.pipe(textittest,n_threads=4, batch_size=1000)]\n",
    "it_test['bleached'] = it_test.spacy.apply(lambda x: bleach(x, wordCount))\n",
    "#en\n",
    "textentest = (row.text for row in en_test.itertuples())\n",
    "en_test['spacy'] = [doc for doc in enlp.pipe(textentest,n_threads=4, batch_size=1000)]\n",
    "en_test['bleached'] = en_test.spacy.apply(lambda x: bleach(x, wordCount))"
   ]
  },
  {
   "cell_type": "code",
   "execution_count": null,
   "metadata": {},
   "outputs": [],
   "source": [
    "#scores_m = cross_val_score(classifier.ngram, en_train.text, en_train.misogynous, cv=10, scoring='f1_macro')\n",
    "#scores_mc = cross_val_score(classifier.ngram, en_train.text, en_train.misogyny_category, cv=10, scoring='f1_macro')\n",
    "#scores_t = cross_val_score(classifier.ngram, en_train.text, en_train.target, cv=10, scoring='f1_macro')"
   ]
  },
  {
   "cell_type": "code",
   "execution_count": null,
   "metadata": {},
   "outputs": [],
   "source": [
    "print(scores_m.mean(), scores_m.std())\n",
    "print(scores_mc.mean(), scores_mc.std())\n",
    "print(scores_t.mean(), scores_t.std())"
   ]
  },
  {
   "cell_type": "code",
   "execution_count": null,
   "metadata": {},
   "outputs": [],
   "source": [
    "#bleached\n",
    "scores_m_blc = cross_val_score(classifier.ngram, it_train.bleached, it_train.misogynous, cv=10, scoring='f1_macro')\n",
    "scores_mc_blc = cross_val_score(classifier.ngram, it_train.bleached, it_train.misogyny_category, cv=10, scoring='f1_macro')\n",
    "scores_t_blc = cross_val_score(classifier.ngram, it_train.bleached, it_train.target, cv=10, scoring='f1_macro')"
   ]
  },
  {
   "cell_type": "code",
   "execution_count": 71,
   "metadata": {},
   "outputs": [
    {
     "name": "stdout",
     "output_type": "stream",
     "text": [
      "0.6884750342107324 0.09289533228840163\n",
      "0.27440386625463287 0.051746507729429715\n",
      "0.5753622173829789 0.07871571350648493\n"
     ]
    }
   ],
   "source": [
    "print(scores_m_blc.mean(), scores_m_blc.std())\n",
    "print(scores_mc_blc.mean(), scores_mc_blc.std())\n",
    "print(scores_t_blc.mean(), scores_t_blc.std())"
   ]
  },
  {
   "cell_type": "markdown",
   "metadata": {},
   "source": [
    "## Italian to English"
   ]
  },
  {
   "cell_type": "code",
   "execution_count": 54,
   "metadata": {},
   "outputs": [],
   "source": [
    "m = classifier.ngram.fit(it_train.text, it_train.misogynous)\n",
    "predictions_m = m.predict(en_test.text)"
   ]
  },
  {
   "cell_type": "code",
   "execution_count": 55,
   "metadata": {},
   "outputs": [
    {
     "data": {
      "text/plain": [
       "0.508"
      ]
     },
     "execution_count": 55,
     "metadata": {},
     "output_type": "execute_result"
    }
   ],
   "source": [
    "accuracy_score(en_test.misogynous,predictions_m)"
   ]
  },
  {
   "cell_type": "markdown",
   "metadata": {},
   "source": [
    "## English to Italian"
   ]
  },
  {
   "cell_type": "code",
   "execution_count": 56,
   "metadata": {},
   "outputs": [],
   "source": [
    "m = classifier.ngram.fit(en_train.text, en_train.misogynous)\n",
    "predictions_m = m.predict(it_test.text)"
   ]
  },
  {
   "cell_type": "code",
   "execution_count": 57,
   "metadata": {},
   "outputs": [
    {
     "data": {
      "text/plain": [
       "0.468"
      ]
     },
     "execution_count": 57,
     "metadata": {},
     "output_type": "execute_result"
    }
   ],
   "source": [
    "accuracy_score(it_test.misogynous,predictions_m)"
   ]
  },
  {
   "cell_type": "markdown",
   "metadata": {},
   "source": [
    "## Combined"
   ]
  },
  {
   "cell_type": "code",
   "execution_count": 66,
   "metadata": {},
   "outputs": [],
   "source": [
    "ensample = en_train.sample(frac=1)\n",
    "itsample = it_train.sample(frac=1)\n",
    "combi = pd.concat([ensample, itsample])"
   ]
  },
  {
   "cell_type": "code",
   "execution_count": 68,
   "metadata": {},
   "outputs": [
    {
     "data": {
      "text/plain": [
       "0.583"
      ]
     },
     "execution_count": 68,
     "metadata": {},
     "output_type": "execute_result"
    }
   ],
   "source": [
    "m = classifier.ngram.fit(combi.bleached, combi.misogynous)\n",
    "predictions_m = m.predict(en_test.bleached)\n",
    "accuracy_score(en_test.misogynous,predictions_m)"
   ]
  }
 ],
 "metadata": {
  "kernelspec": {
   "display_name": "abasileNLG-gpu",
   "language": "python",
   "name": "abasilenlg-gpu"
  },
  "language_info": {
   "codemirror_mode": {
    "name": "ipython",
    "version": 3
   },
   "file_extension": ".py",
   "mimetype": "text/x-python",
   "name": "python",
   "nbconvert_exporter": "python",
   "pygments_lexer": "ipython3",
   "version": "3.6.6"
  }
 },
 "nbformat": 4,
 "nbformat_minor": 2
}
